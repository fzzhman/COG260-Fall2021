{
 "cells": [
  {
   "cell_type": "markdown",
   "metadata": {},
   "source": [
    "## Lab 2 - Number estimation (Weber fraction)"
   ]
  },
  {
   "cell_type": "markdown",
   "metadata": {},
   "source": [
    "This lab must be done **individually**. The required packages have been imported for you below."
   ]
  },
  {
   "cell_type": "code",
   "execution_count": 30,
   "metadata": {},
   "outputs": [],
   "source": [
    "import matplotlib.pyplot as plt\n",
    "import numpy as np\n",
    "import pandas as pd"
   ]
  },
  {
   "cell_type": "markdown",
   "metadata": {},
   "source": [
    "The target number (i.e. ground truth) for each experimental trial is provided in the following python array."
   ]
  },
  {
   "cell_type": "code",
   "execution_count": 31,
   "metadata": {},
   "outputs": [],
   "source": [
    "targets = np.array([3, 8, 40, 2, 5, 30, 7, 35, 6, 15, 10, 20, 9, 25, 4]);"
   ]
  },
  {
   "cell_type": "markdown",
   "metadata": {},
   "source": [
    "Read in the experimental data---these are identical to what you've analyzed in Lab 1. `df` is a dataframe of size _(Participants x Trials)_."
   ]
  },
  {
   "cell_type": "code",
   "execution_count": 32,
   "metadata": {},
   "outputs": [],
   "source": [
    "df = pd.read_csv('data-number-estimation.csv')"
   ]
  },
  {
   "cell_type": "markdown",
   "metadata": {},
   "source": [
    "Compute the $mean$ and standard deviation ($sd$) for each trial (do not use a `for` loop). **[1pt]**\n",
    "\n",
    "**Hint**: Use `df.mean()` and `df.std()`."
   ]
  },
  {
   "cell_type": "code",
   "execution_count": 34,
   "metadata": {},
   "outputs": [],
   "source": [
    "# Write your code here\n",
    "\n",
    "mn = df.mean()\n",
    "sd = df.std()"
   ]
  },
  {
   "cell_type": "markdown",
   "metadata": {},
   "source": [
    "### Figure 1 [2pts]"
   ]
  },
  {
   "cell_type": "markdown",
   "metadata": {},
   "source": [
    "**Task 1.1**: Plot $mean$ responses against target numbers and add a reference line for the ground truth. **Hint**: Use `plt.plot()`.\n",
    "\n",
    "**Task 1.2**: Plot $mean+sd$ and $mean-sd$. **Hint**: Use `np.add()` and `np.subtract()`.\n",
    "\n",
    "**Task 1.3**: Annotate the graph and axes. **Hint**: Use `plt.legend()` and `plt.xlabel()` and `plt.ylabel()`."
   ]
  },
  {
   "cell_type": "code",
   "execution_count": 42,
   "metadata": {},
   "outputs": [
    {
     "data": {
      "image/png": "[encoded data removed]",
      "text/plain": [
       "<Figure size 432x288 with 1 Axes>"
      ]
     },
     "metadata": {
      "needs_background": "light"
     },
     "output_type": "display_data"
    }
   ],
   "source": [
    "# Task 1.1\n",
    "# Write your code here.\n",
    "plt.plot(targets, mn.values, \"yo\", label= 'Mean')\n",
    "\n",
    "# Task 1.2\n",
    "# Write your code here.\n",
    "add = np.add(mn, sd)\n",
    "plt.plot(targets, add, \"ro\", label= \"Add\")\n",
    "\n",
    "#add_subtract\n",
    "sub = np.subtract(mn, sd)\n",
    "plt.plot(targets, sub, \"bo\", label=\"Sub\")\n",
    "\n",
    "# Task 1.3\n",
    "# Write your code here.\n",
    "plt.legend(\"Number Estimation\")\n",
    "plt.xlabel(\"Targets\")\n",
    "plt.ylabel(\"Estimation\")\n",
    "plt.show()"
   ]
  },
  {
   "cell_type": "markdown",
   "metadata": {},
   "source": [
    "### Figure 2 [2pts]"
   ]
  },
  {
   "cell_type": "markdown",
   "metadata": {},
   "source": [
    "Divide $sd$ by $mean$ for each trial.\n",
    "\n",
    "**Hint**: Use `np.divide()`."
   ]
  },
  {
   "cell_type": "code",
   "execution_count": null,
   "metadata": {},
   "outputs": [],
   "source": [
    "# Write your code here.\n",
    "sd_by_mn = np.divide(sd,mn)\n",
    "sd_by_mn"
   ]
  },
  {
   "cell_type": "markdown",
   "metadata": {},
   "source": [
    "Uncomment the following line to start a new figure."
   ]
  },
  {
   "cell_type": "code",
   "execution_count": 43,
   "metadata": {},
   "outputs": [
    {
     "data": {
      "text/plain": [
       "<Figure size 432x288 with 0 Axes>"
      ]
     },
     "execution_count": 43,
     "metadata": {},
     "output_type": "execute_result"
    },
    {
     "data": {
      "text/plain": [
       "<Figure size 432x288 with 0 Axes>"
      ]
     },
     "metadata": {},
     "output_type": "display_data"
    }
   ],
   "source": [
    "plt.figure()"
   ]
  },
  {
   "cell_type": "markdown",
   "metadata": {},
   "source": [
    "Plot $\\frac{sd}{mean}$ ratios against the target numbers."
   ]
  },
  {
   "cell_type": "code",
   "execution_count": 46,
   "metadata": {},
   "outputs": [
    {
     "data": {
      "text/plain": [
       "[<matplotlib.lines.Line2D at 0x7fe9af2b5580>]"
      ]
     },
     "execution_count": 46,
     "metadata": {},
     "output_type": "execute_result"
    },
    {
     "data": {
      "image/png": "[encoded data removed]",
      "text/plain": [
       "<Figure size 432x288 with 1 Axes>"
      ]
     },
     "metadata": {
      "needs_background": "light"
     },
     "output_type": "display_data"
    }
   ],
   "source": [
    "# Write your code here.\n",
    "plt.plot(targets, sd_by_mn, \"go\")"
   ]
  },
  {
   "cell_type": "markdown",
   "metadata": {},
   "source": [
    "1) Estimate Weber's fraction in two steps. 1) First choose an appropriate threshold target number (given the plot you've made above) and justify your choice. **[2pts]**"
   ]
  },
  {
   "cell_type": "markdown",
   "metadata": {
    "collapsed": true
   },
   "source": [
    "Thres = Appropriate target number = 3\n",
    "According to the plot of sd-to-mn ratio against targets, the ratio of sd to mean is lowest (0) when target value = 3, indicating that this is the estimation that all participants guessed correctly; thus, it is the most obvious choice for threshold number."
   ]
  },
  {
   "cell_type": "markdown",
   "metadata": {},
   "source": [
    "2) Then calculate Weber fraction by averaging $\\frac{sd}{mean}$ ratios across trials that have targets greater than the threshold you've chosen. **[1pt]**\n",
    "\n",
    "**Hint**: Use `np.where()` and `np.mean()`."
   ]
  },
  {
   "cell_type": "code",
   "execution_count": 48,
   "metadata": {},
   "outputs": [
    {
     "name": "stdout",
     "output_type": "stream",
     "text": [
      "0.17118122967043067\n"
     ]
    }
   ],
   "source": [
    "weber_fraction = sd_by_mn.where(sd_by_mn>0).mean()\n",
    "print(weber_fraction)"
   ]
  },
  {
   "cell_type": "markdown",
   "metadata": {
    "collapsed": true
   },
   "source": [
    "Export and submit a **fully executable** Python Jupyter Notebook along with a PDF export of your notebook showing all results you've obtained. Please follow the naming convention as suggested in Lab 1.**[2pts]**\n"
   ]
  },
  {
   "cell_type": "code",
   "execution_count": null,
   "metadata": {},
   "outputs": [],
   "source": []
  }
 ],
 "metadata": {
  "anaconda-cloud": {},
  "kernelspec": {
   "display_name": "Python 3 (ipykernel)",
   "language": "python",
   "name": "python3"
  },
  "language_info": {
   "codemirror_mode": {
    "name": "ipython",
    "version": 3
   },
   "file_extension": ".py",
   "mimetype": "text/x-python",
   "name": "python",
   "nbconvert_exporter": "python",
   "pygments_lexer": "ipython3",
   "version": "3.9.6"
  }
 },
 "nbformat": 4,
 "nbformat_minor": 1
}
