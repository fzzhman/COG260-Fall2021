{
 "cells": [
  {
   "cell_type": "markdown",
   "metadata": {},
   "source": [
    "## Lab 4 - Prototypicality"
   ]
  },
  {
   "cell_type": "markdown",
   "metadata": {},
   "source": [
    "This lab must be done **individually**. The required packages have been imported for you below."
   ]
  },
  {
   "cell_type": "code",
   "execution_count": 49,
   "metadata": {},
   "outputs": [],
   "source": [
    "import matplotlib.pyplot as plt\n",
    "import numpy as np\n",
    "import pickle\n",
    "from scipy import spatial  "
   ]
  },
  {
   "cell_type": "markdown",
   "metadata": {},
   "source": [
    "**Optional**: Uncomment the following line of code to sanity-check your `pearsonr` function below."
   ]
  },
  {
   "cell_type": "code",
   "execution_count": 50,
   "metadata": {},
   "outputs": [],
   "source": [
    "#from scipy.stats import pearsonr"
   ]
  },
  {
   "cell_type": "markdown",
   "metadata": {},
   "source": [
    "Data adapted from Leuven Concept Database (De Deyne et al., 2008). \n",
    "\n",
    "Import data for the lab. \n",
    "\n",
    "**Hint**: Check what these variables are by printing them out."
   ]
  },
  {
   "cell_type": "code",
   "execution_count": 51,
   "metadata": {},
   "outputs": [],
   "source": [
    "with open(\"data-prototypicality.pickle\", \"rb\") as f:\n",
    "    birdnames, F, goodness, features = pickle.load(f) \n",
    "#F variable has rankings of features according to each bird\n",
    "#235 features, 23 birds, 23 participants."
   ]
  },
  {
   "cell_type": "markdown",
   "metadata": {
    "collapsed": true
   },
   "source": [
    "In this lab, you will construct a simple cognitive model that reproduces human judgments of prototypicality about birds (see corresponding lecture notes for details, particularly the slide that shows the big list of prototypicality ratings on different birds such as sparrows and penguins, in the experiment performed by Rosch).\n",
    "\n",
    "All the essential variables have been imported for you, and please spend some time trying to understand their corresponding data structures, recorded in \"birdnames\", \"F\", \"goodness\", and \"features\", respectively. Specifically, you will be modelling prototypicality for the birds described in \"birdnames\". The feature matrix \"F\" records all the features that people have come up with for these birds, as well as the applicability of the features to the birds. Each entry in this matrix records how many participants considered a feature applies to a bird: 0 indicates that no one considered a bird to have a certain feature, and a higher count (integer) indicates that at least 1 person considered a bird to have a certain feature. You will need to use all features for your model, and all features are annotated in \"features\". Finally, \"goodness\" contains prototypicality ratings taken directly from Rosch's list as shown on the lecture slide (mentioned above). The idea of the following exercise is for you to construct a prototypicality model, such that the model-constructed prototypicality ratings for all the birds in question should ultimately correlate with the ratings recorded in \"goodness\". Note that the conceptual basis for the prototype model has been already discussed in class---see lecture notes posted.\n",
    "\n",
    "\n",
    "\n",
    "### Task 1 [0.5 pt]\n",
    "\n",
    "Calculate the prototype feature vector from all birds, using the `F` variable."
   ]
  },
  {
   "cell_type": "code",
   "execution_count": 52,
   "metadata": {},
   "outputs": [
    {
     "name": "stdout",
     "output_type": "stream",
     "text": [
      "[1.1106382978723404, 1.0808510638297872, 1.1872340425531915, 0.9787234042553191, 1.025531914893617, 0.9148936170212766, 1.0765957446808512, 0.8723404255319149, 0.8808510638297873, 0.9531914893617022, 0.9063829787234042, 1.025531914893617, 1.1404255319148937, 0.9446808510638298, 1.0340425531914894, 0.9787234042553191, 0.9063829787234042, 0.9191489361702128, 0.8765957446808511, 0.8893617021276595, 1.1702127659574468, 1.0170212765957447, 1.0127659574468084]\n"
     ]
    }
   ],
   "source": [
    "# Write your code here.\n",
    "#loop through each of the bird feature vector.\n",
    "\n",
    "#each entry in this matrix records how many participants considered a feature applies to a bird: \n",
    "#0 indicates that no one considered a bird to have a certain feature, \n",
    "#and a higher count (integer) indicates that at least 1 person considered a bird to have a certain feature.\n",
    "#output: 23 by 1 matrix\n",
    "#sum of all features for each bird\n",
    "#F[a][b] people considered feature F[a] to belong to bird\n",
    "#how many people considered F[a] feature to apply to F[a][b] bird!\n",
    "#adding all the numbers in a column = features that apply to this bird\n",
    "\n",
    "prototype=[] #prototype feature vector\n",
    "\n",
    "sumcolumn=F.sum(axis=0)\n",
    "\n",
    "for x in sumcolumn:\n",
    "    prototype.append(x/235)\n",
    "    \n",
    "print(prototype)\n",
    "\n"
   ]
  },
  {
   "cell_type": "markdown",
   "metadata": {
    "collapsed": true
   },
   "source": [
    "### Task 2 [1 pt]\n",
    "Calculate Euclidean distance of each bird to the prototype feature vector. \n",
    "\n",
    "**Hint**: use `spatial.distance.euclidean(x,y)`."
   ]
  },
  {
   "cell_type": "code",
   "execution_count": 53,
   "metadata": {},
   "outputs": [
    {
     "name": "stdout",
     "output_type": "stream",
     "text": [
      "[0.6393617021276596, 0.3791489361702127, 2.052765957446809, 1.711276595744681, 3.064468085106383, 0.5051063829787233, 2.943404255319148, 1.097659574468085, 0.8891489361702127, 0.47680851063829777, 0.2736170212765957, 2.074468085106383, 0.9295744680851061, 0.5853191489361702, 2.2759574468085106, 2.001276595744681, 3.623617021276596, 0.10085106382978726, 0.9034042553191489, 3.2306382978723405, 1.7897872340425531, 0.9429787234042553, 2.1472340425531917]\n"
     ]
    }
   ],
   "source": [
    "# Write your code here.\n",
    "dist = [] #euclidean distance of each bird to prototype feature vector\n",
    "for i in range(len(goodness)):\n",
    "    dist.append(spatial.distance.euclidean(goodness[i],prototype[i]))\n",
    "    \n",
    "print(dist)"
   ]
  },
  {
   "cell_type": "markdown",
   "metadata": {},
   "source": [
    "### Task 3 [2.5 pts]\n",
    "\n",
    "Write a generic function that calculates Pearson correlation between two arrays `a` and `b`. "
   ]
  },
  {
   "cell_type": "code",
   "execution_count": 54,
   "metadata": {},
   "outputs": [
    {
     "data": {
      "text/plain": [
       "'PC refers to linear rl between x and y. The resulting value is in the [-1,+1] range.'"
      ]
     },
     "execution_count": 54,
     "metadata": {},
     "output_type": "execute_result"
    }
   ],
   "source": [
    "def pearsonr(a,b):\n",
    "    \n",
    "    # Write your code here.\n",
    "    cov = 0\n",
    "    for i in range(len(a)):\n",
    "        cov += (a[i]-np.mean(a)) * (b[i]-np.mean(b))\n",
    "    final = cov/len(a)\n",
    "    denom = np.std(a)* np.std(b)\n",
    "    pearson = final / denom\n",
    "    return pearson\n",
    "\"\"\"PC refers to linear rl between x and y. The resulting value is in the [-1,+1] range.\"\"\""
   ]
  },
  {
   "cell_type": "markdown",
   "metadata": {
    "collapsed": true
   },
   "source": [
    "### Task 4 [1 pt]\n",
    "\n",
    "Calculate and report the Pearson correlation between empirical ratings in \"goodness\" and distances of birds to prototype."
   ]
  },
  {
   "cell_type": "code",
   "execution_count": 55,
   "metadata": {},
   "outputs": [
    {
     "name": "stdout",
     "output_type": "stream",
     "text": [
      "0.9958817476720048\n"
     ]
    }
   ],
   "source": [
    "# Write your code here.\n",
    "p = pearsonr(dist,goodness)\n",
    "print(p)"
   ]
  },
  {
   "cell_type": "markdown",
   "metadata": {
    "collapsed": true
   },
   "source": [
    "### Task 5 & Task 6 [2 pts]\n",
    "**Task 5**: Scatter-plot \"goodness\" ratings (y-axis) against distances of birds to prototype (x-axis); label both axes. **[1 pt]**\n",
    "\n",
    "**Task 6**: Fit a line to these data points and show that line on the plot. **[1 pt]**"
   ]
  },
  {
   "cell_type": "code",
   "execution_count": 56,
   "metadata": {},
   "outputs": [
    {
     "data": {
      "image/png": "[encoded data removed]",
      "text/plain": [
       "<Figure size 432x288 with 1 Axes>"
      ]
     },
     "metadata": {
      "needs_background": "light"
     },
     "output_type": "display_data"
    }
   ],
   "source": [
    "# Write your code here.\n",
    "plt.plot(dist, goodness, \"ro\")\n",
    "plt.xlabel(\"Distances of Birds to Prototype\")\n",
    "plt.ylabel(\"Goodness\")\n",
    "m, b = np.polyfit(dist, goodness, 1)\n",
    "y = []\n",
    "for i in range(len(dist)):\n",
    "    y.append((m*dist[i])+b)\n",
    "plt.plot(dist,y)\n",
    "plt.show()"
   ]
  },
  {
   "cell_type": "markdown",
   "metadata": {},
   "source": [
    "### Task 7 [3 pts]\n",
    "**Task 7**: a) Propose and justify a simple method of improving the correlation; b) Implement your proposal and show it works. **[3 pts]**\n"
   ]
  },
  {
   "cell_type": "markdown",
   "metadata": {
    "collapsed": true
   },
   "source": [
    "# Write your solution here.\n",
    "    a)The pearson correlation coefficient is very close to 1, which implies that the data is biased. In order to remove the bias, reduce the coefficient value by increasing the difference between the two variables’ observations. This is done by identifying the independent variable observation, which is same or close to dependent observation value, and replacing it with the value which would increase the difference between the variables. \n"
   ]
  },
  {
   "cell_type": "markdown",
   "metadata": {},
   "source": [
    "Export and submit a **fully executable** Python Jupyter Notebook and a PDF copy of your notebook showing all results. "
   ]
  },
  {
   "cell_type": "code",
   "execution_count": 60,
   "metadata": {},
   "outputs": [
    {
     "data": {
      "image/png": "[encoded data removed]",
      "text/plain": [
       "<Figure size 432x288 with 1 Axes>"
      ]
     },
     "metadata": {
      "needs_background": "light"
     },
     "output_type": "display_data"
    },
    {
     "name": "stdout",
     "output_type": "stream",
     "text": [
      "0.9951346845590738\n"
     ]
    }
   ],
   "source": [
    "#b\n",
    "new_dist = []\n",
    "i_s = []\n",
    "new_goodness = []\n",
    "for i in range(len(dist)):\n",
    "    if dist[i] > 0.4:\n",
    "        new_dist.append(dist[i])\n",
    "        new_goodness.append(goodness[i])\n",
    "new_p = pearsonr(new_dist,new_goodness)\n",
    "\n",
    "plt.scatter(new_dist, new_goodness)\n",
    "plt.xlabel(\"New Distances of Birds to Prototype\")\n",
    "plt.ylabel(\"Goodness\")\n",
    "m, b = np.polyfit(new_dist, new_goodness, 1)\n",
    "y = []\n",
    "for i in range(len(new_dist)):\n",
    "    y.append((m*new_dist[i])+b)\n",
    "plt.plot(new_dist,y)\n",
    "plt.show()\n",
    "\n",
    "print(new_p)"
   ]
  },
  {
   "cell_type": "markdown",
   "metadata": {},
   "source": [
    "b)This value of pearson correlation coefficient is smaller than before, indicating that variables that were causing a bias have been removed"
   ]
  },
  {
   "cell_type": "code",
   "execution_count": null,
   "metadata": {},
   "outputs": [],
   "source": []
  }
 ],
 "metadata": {
  "anaconda-cloud": {},
  "kernelspec": {
   "display_name": "Python 3 (ipykernel)",
   "language": "python",
   "name": "python3"
  },
  "language_info": {
   "codemirror_mode": {
    "name": "ipython",
    "version": 3
   },
   "file_extension": ".py",
   "mimetype": "text/x-python",
   "name": "python",
   "nbconvert_exporter": "python",
   "pygments_lexer": "ipython3",
   "version": "3.9.6"
  }
 },
 "nbformat": 4,
 "nbformat_minor": 1
}
